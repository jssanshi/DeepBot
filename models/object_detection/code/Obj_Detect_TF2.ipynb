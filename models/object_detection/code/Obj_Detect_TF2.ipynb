{
 "cells": [
  {
   "cell_type": "markdown",
   "metadata": {
    "id": "KY4js3aX7no6"
   },
   "source": [
    "# **使用图像数据集训练一个目标检测模型  (TensorFlow 2.x)**\n",
    "\n",
    "**[文章地址]()**"
   ]
  },
  {
   "cell_type": "markdown",
   "metadata": {
    "id": "HweuaIooIizu"
   },
   "source": [
    "# **我们将介绍使用SSD模型训练一个自定义目标检测模型**\n",
    "\n",
    "\n"
   ]
  },
  {
   "cell_type": "markdown",
   "metadata": {
    "id": "ORo9oGPiA8k7"
   },
   "source": [
    "## **ROADMAP**\n",
    "\n",
    "\n",
    "* 收集图像数据集，进行标注，生产xml文件。\n",
    "* 安装TensorFlow对象检测API。\n",
    "* 准备TFRecord训练文件。\n",
    "* 编辑模型流水线配置文件，下载预训练模型检查点。\n",
    "* 训练、测试模型。\n",
    "\n",
    "\n"
   ]
  },
  {
   "cell_type": "markdown",
   "metadata": {
    "id": "pjfRnVN12JWF"
   },
   "source": [
    "# **1) 安装依赖库**"
   ]
  },
  {
   "cell_type": "code",
   "execution_count": null,
   "metadata": {
    "colab": {
     "base_uri": "https://localhost:8080/"
    },
    "executionInfo": {
     "elapsed": 8443,
     "status": "ok",
     "timestamp": 1748931538110,
     "user": {
      "displayName": "lei wang",
      "userId": "16453204902753520312"
     },
     "user_tz": -480
    },
    "id": "RUeMI4L5RzqV",
    "outputId": "b6939883-72a3-4d32-a283-80e7247781b6"
   },
   "outputs": [
    {
     "output_type": "stream",
     "name": "stdout",
     "text": [
      "2.18.0\n"
     ]
    }
   ],
   "source": [
    "import os\n",
    "import glob\n",
    "import xml.etree.ElementTree as ET\n",
    "import pandas as pd\n",
    "\n",
    "import tensorflow as tf\n",
    "print(tf.__version__)"
   ]
  },
  {
   "cell_type": "markdown",
   "metadata": {
    "id": "92GABWQa1eYT"
   },
   "source": [
    "# **2) 在google drive上创建*`Object_Detection`*, *`training`* and *`data`* 文件夹**\n",
    "在google drive上创建一个***Object_Detection***文件夹。\n",
    "\n",
    "在***Object_Detection***目录下创建***training***文件夹，***training***文件夹保存训练过程中的checkpoints。\n",
    "\n",
    "在***Object_Detection***目录下创建***data***文件夹。"
   ]
  },
  {
   "cell_type": "markdown",
   "metadata": {
    "id": "k25m_dVm6-bP"
   },
   "source": [
    "# **3) 收集图像数据集，标注生成PASCAL_VOC XML文件**\n",
    "免费图像标注工具https://github.com/HumanSignal/labelImg\n",
    "\n",
    "图片标注原理可以参考 [文章](https://techzizou.com/dataset-labeling-annotation-tutorial-for-beginners/) 。"
   ]
  },
  {
   "cell_type": "markdown",
   "metadata": {
    "id": "rHnTmrSwNg6S"
   },
   "source": [
    "# **4) 上传*`generate_tfrecord.py`*到*`Object_Detection`*目录下**\n",
    "\n",
    "\n",
    "\n",
    "下载 [generate_tfrecord.py](https://github.com/techzizou/Train-Object-Detection-Model-TF-2.x)"
   ]
  },
  {
   "cell_type": "markdown",
   "metadata": {
    "id": "OLsPGJiuxRrK"
   },
   "source": [
    "#**5) 挂载drive目录，做文件符号链接**\n"
   ]
  },
  {
   "cell_type": "code",
   "execution_count": null,
   "metadata": {
    "colab": {
     "base_uri": "https://localhost:8080/"
    },
    "executionInfo": {
     "elapsed": 24219,
     "status": "ok",
     "timestamp": 1748931578788,
     "user": {
      "displayName": "lei wang",
      "userId": "16453204902753520312"
     },
     "user_tz": -480
    },
    "id": "RhZoiRBoqnju",
    "outputId": "abe55285-227a-4ec9-ff39-c7792375d13a"
   },
   "outputs": [
    {
     "output_type": "stream",
     "name": "stdout",
     "text": [
      "Mounted at /content/gdrive\n",
      "annotations.zip  data  generate_tfrecord.py  images.zip  training\n"
     ]
    }
   ],
   "source": [
    "from google.colab import drive\n",
    "drive.mount('/content/gdrive')\n",
    "\n",
    "# 创建符号链接\n",
    "!ln -s /content/gdrive/My\\ Drive/ /mydrive\n",
    "!ls /mydrive/Object_Detection"
   ]
  },
  {
   "cell_type": "markdown",
   "metadata": {
    "id": "useG4r6nOn9h"
   },
   "source": [
    "# **6) 下载tensorflow模型，安装tensflow对象检测API**\n",
    "\n",
    "\n",
    "\n",
    "\n"
   ]
  },
  {
   "cell_type": "code",
   "execution_count": null,
   "metadata": {
    "id": "Iv3C8-s0koQU"
   },
   "outputs": [],
   "source": [
    "# clone the tensorflow models on the colab cloud vm\n",
    "!git clone --q https://github.com/tensorflow/models.git\n",
    "\n",
    "#navigate to /models/research folder to compile protos\n",
    "%cd models/research\n",
    "\n",
    "# Compile protos.\n",
    "!protoc object_detection/protos/*.proto --python_out=.\n",
    "\n",
    "# Install TensorFlow Object Detection API.\n",
    "!cp object_detection/packages/tf2/setup.py .\n",
    "!python -m pip install ."
   ]
  },
  {
   "cell_type": "markdown",
   "metadata": {
    "id": "2naqsZBA9WW4"
   },
   "source": [
    "# **7) 切换到/mydrive/Object_Detection/data/目录，解压*images.zip* 和 *annotations.zip* 文件到*data* 目录**\n",
    "\n",
    "\n"
   ]
  },
  {
   "cell_type": "code",
   "execution_count": null,
   "metadata": {
    "id": "m1UT5_rrTw6e"
   },
   "outputs": [],
   "source": [
    "%cd /mydrive/Object_Detection/data/\n",
    "\n",
    "# unzip the datasets and their contents so that they are now in /mydrive/Object_Detection/data/ folder\n",
    "!unzip /mydrive/Object_Detection/images.zip -d .\n",
    "!unzip /mydrive/Object_Detection/annotations.zip -d ."
   ]
  },
  {
   "cell_type": "markdown",
   "metadata": {
    "id": "fYUW7UZejKFb"
   },
   "source": [
    "# **8) 创建 test_labels & train_labels**\n",
    "当前工作目录 /mydrive/Object_Detection/data/\n",
    "\n",
    "将标注文件分拆到test_labels(20%) 、 train_labels(80%)"
   ]
  },
  {
   "cell_type": "code",
   "execution_count": null,
   "metadata": {
    "id": "AoyMt_vssl1j"
   },
   "outputs": [],
   "source": [
    "#creating two dir for training and testing\n",
    "!mkdir test_labels train_labels\n",
    "\n",
    "# lists the files inside 'annotations' in a random order (not really random, by their hash value instead)\n",
    "# Moves the first 20% of the labels to the testing dir: `test_labels`\n",
    "!ls annotations/* | sort -R | head -2 | xargs -I{} mv {} test_labels/\n",
    "\n",
    "\n",
    "# Moves the rest of the labels to the training dir: `train_labels`\n",
    "!ls annotations/* | xargs -I{} mv {} train_labels/"
   ]
  },
  {
   "cell_type": "markdown",
   "metadata": {
    "id": "TkmobRsqaMJf"
   },
   "source": [
    "![1748572449301.png](data:image/png;base64,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)"
   ]
  },
  {
   "cell_type": "markdown",
   "metadata": {
    "id": "vH67M2M12s3n"
   },
   "source": [
    "# **9) 创建 CSV 文件 和 \"label_map.pbtxt\" 文件**\n",
    "\n",
    "当前工作目录 /mydrive/Object_Detection/data/\n",
    "\n",
    "运行 xml_to_csv 脚本创建 ***test_labels.csv*** 、 ***train_labels.csv***、***label_map.pbtxt***"
   ]
  },
  {
   "cell_type": "code",
   "execution_count": null,
   "metadata": {
    "id": "VyGisGxK4ag0"
   },
   "outputs": [],
   "source": [
    "#adjusted from: https://github.com/datitran/raccoon_dataset\n",
    "def xml_to_csv(path):\n",
    "  classes_names = []\n",
    "  xml_list = []\n",
    "\n",
    "  for xml_file in glob.glob(path + '/*.xml'):\n",
    "    tree = ET.parse(xml_file)\n",
    "    root = tree.getroot()\n",
    "    for member in root.findall('object'):\n",
    "      classes_names.append(member[0].text)\n",
    "      value = (root.find('filename').text  ,\n",
    "               int(root.find('size')[0].text),\n",
    "               int(root.find('size')[1].text),\n",
    "               member[0].text,\n",
    "               int(member[4][0].text),\n",
    "               int(member[4][1].text),\n",
    "               int(member[4][2].text),\n",
    "               int(member[4][3].text))\n",
    "      xml_list.append(value)\n",
    "  column_name = ['filename', 'width', 'height', 'class', 'xmin', 'ymin', 'xmax', 'ymax']\n",
    "  xml_df = pd.DataFrame(xml_list, columns=column_name)\n",
    "  classes_names = list(set(classes_names))\n",
    "  classes_names.sort()\n",
    "  return xml_df, classes_names\n",
    "\n",
    "for label_path in ['train_labels', 'test_labels']:\n",
    "  image_path = os.path.join(os.getcwd(), label_path)\n",
    "  xml_df, classes = xml_to_csv(label_path)\n",
    "  xml_df.to_csv(f'{label_path}.csv', index=None)\n",
    "  print(f'Successfully converted {label_path} xml to csv.')\n",
    "\n",
    "label_map_path = os.path.join(\"label_map.pbtxt\")\n",
    "pbtxt_content = \"\"\n",
    "\n",
    "for i, class_name in enumerate(classes):\n",
    "    pbtxt_content = (\n",
    "        pbtxt_content\n",
    "        + \"item {{\\n    id: {0}\\n    name: '{1}'\\n}}\\n\\n\".format(i + 1, class_name)\n",
    "    )\n",
    "pbtxt_content = pbtxt_content.strip()\n",
    "with open(label_map_path, \"w\") as f:\n",
    "    f.write(pbtxt_content)\n",
    "    print('Successfully created label_map.pbtxt ')"
   ]
  },
  {
   "cell_type": "markdown",
   "metadata": {
    "id": "kiYeJ7aomCOc"
   },
   "source": [
    "![1748573211495.png](data:image/png;base64,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)"
   ]
  },
  {
   "cell_type": "markdown",
   "metadata": {
    "id": "tblFU-i495qr"
   },
   "source": [
    "# **10) 创建 train.record & test.record**\n",
    "\n",
    "当前工作路径 /mydrive/Object_Detection/data/\n",
    "\n",
    "运行 *generate_tfrecord.py* 脚本生成 *train.record* 、 *test.record* 文件"
   ]
  },
  {
   "cell_type": "code",
   "execution_count": null,
   "metadata": {
    "id": "ET4SXdtYUIjZ"
   },
   "outputs": [],
   "source": [
    "#Usage:\n",
    "#!python generate_tfrecord.py output.csv output_pb.txt /path/to/images output.tfrecords\n",
    "\n",
    "#For train.record\n",
    "!python /mydrive/Object_Detection/generate_tfrecord.py train_labels.csv  label_map.pbtxt images/ train.record\n",
    "\n",
    "#For test.record\n",
    "!python /mydrive/Object_Detection/generate_tfrecord.py test_labels.csv  label_map.pbtxt images/ test.record\n"
   ]
  },
  {
   "cell_type": "markdown",
   "metadata": {
    "id": "nwWh49ClaBeD"
   },
   "source": [
    "# **11) 下载预训模型**\n",
    "\n",
    "当前工作目录 /mydrive/Object_Detection/data/\n",
    "\n",
    "将 **ssd_mobilenet_v2_fpnlite_320x320_coco17_tpu-8.tar.gz** 下载到 ***data*** 目录，解压.\n",
    "\n",
    "tensorflow 2.x预训练模型 [访问地址](https://github.com/tensorflow/models/blob/master/research/object_detection/g3doc/tf2_detection_zoo.md).\n",
    "\n"
   ]
  },
  {
   "cell_type": "code",
   "execution_count": null,
   "metadata": {
    "id": "obEW7RNEcowc"
   },
   "outputs": [],
   "source": [
    "#Download the pre-trained model ssd_mobilenet_v2_fpnlite_320x320_coco17_tpu-8.tar.gz into the data folder & unzip it.\n",
    "\n",
    "!wget http://download.tensorflow.org/models/object_detection/tf2/20200711/ssd_mobilenet_v2_fpnlite_320x320_coco17_tpu-8.tar.gz\n",
    "!tar -xzvf ssd_mobilenet_v2_fpnlite_320x320_coco17_tpu-8.tar.gz"
   ]
  },
  {
   "cell_type": "markdown",
   "metadata": {
    "id": "XS-xqg02X9Ro"
   },
   "source": [
    "# **12) 配置模型训练文件, 配置好的文件存放到 *data* 目录**\n",
    "\n",
    "当前工作目录 /mydrive/Object_Detection/data/\n",
    "\n",
    "在colab编辑 ***/content/models/research/object_detection/configs/tf2*** ，拷贝到***/mydrive/Object_Detection/data*** 目录\n",
    "\n",
    "**修改以下参数：**\n",
    "*   ***num_classes***\n",
    "*   ***test.record*** path, ***train.record*** path & ***labelmap*** path\n",
    "*  ***fine_tune_checkpoint***\n",
    "*  ***fine_tune_checkpoint_type***  **classification** or **detection**\n",
    "*  ***batch_size***\n",
    "*  ***num_steps***\n",
    "\n",
    "\n",
    "\n",
    "\n",
    "\n"
   ]
  },
  {
   "cell_type": "code",
   "execution_count": null,
   "metadata": {
    "id": "ze7ewaO3c545"
   },
   "outputs": [],
   "source": [
    "#copy the edited config file from the configs/tf2 directory to the data/ folder in your drive\n",
    "\n",
    "!cp /content/models/research/object_detection/configs/tf2/ssd_mobilenet_v2_fpnlite_320x320_coco17_tpu-8.config /mydrive/Object_Detection/data"
   ]
  },
  {
   "cell_type": "markdown",
   "metadata": {
    "id": "tlzGrIfdAKj9"
   },
   "source": [
    "# **13) 训练模型**\n",
    "\n",
    "\n",
    "\n",
    "\n"
   ]
  },
  {
   "cell_type": "code",
   "execution_count": null,
   "metadata": {
    "id": "-40iq_0ZMgfL"
   },
   "outputs": [],
   "source": [
    "%cd /content/models/research/object_detection\n",
    "\n",
    "#step1\n",
    "#!pip uninstall -y tensorflow\n",
    "#!pip install tensorflow==2.13.0\n",
    "\n",
    "#step2\n",
    "!pip install numpy==1.26.4\n",
    "!pip install protobuf==3.20"
   ]
  },
  {
   "cell_type": "markdown",
   "metadata": {
    "id": "_pjP3TuBMjli"
   },
   "source": [
    "## **14) 使用model_main_tf2.py脚本进行模型训练**\n",
    "为了获得最佳效果，当训练loss小于0.1或者loss没有显著变化的时候可以停止训练。立项的loss应该小于0.05。"
   ]
  },
  {
   "cell_type": "code",
   "execution_count": null,
   "metadata": {
    "id": "7LS0SBCgRuox"
   },
   "outputs": [],
   "source": [
    "# Run the command below from the content/models/research/object_detection directory\n",
    "\"\"\"\n",
    "PIPELINE_CONFIG_PATH=path/to/pipeline.config\n",
    "MODEL_DIR=path to training checkpoints directory\n",
    "NUM_TRAIN_STEPS=50000\n",
    "SAMPLE_1_OF_N_EVAL_EXAMPLES=1\n",
    "\n",
    "python model_main_tf2.py -- \\\n",
    "  --model_dir=$MODEL_DIR --num_train_steps=$NUM_TRAIN_STEPS \\\n",
    "  --sample_1_of_n_eval_examples=$SAMPLE_1_OF_N_EVAL_EXAMPLES \\\n",
    "  --pipeline_config_path=$PIPELINE_CONFIG_PATH \\\n",
    "  --alsologtostderr\n",
    "\"\"\"\n",
    "os.environ[\"TF_USE_LEGACY_KERAS\"]=\"1\"\n",
    "!python model_main_tf2.py --pipeline_config_path=/content/gdrive/MyDrive/Object_Detection/data/ssd_mobilenet_v2_fpnlite_320x320_coco17_tpu-8.config --model_dir=/content/gdrive/MyDrive/Object_Detection/training --alsologtostderr"
   ]
  },
  {
   "cell_type": "markdown",
   "metadata": {
    "id": "Nxn-FtdtpsTx"
   },
   "source": [
    "# **15) 测试训练模型**"
   ]
  },
  {
   "cell_type": "markdown",
   "metadata": {
    "id": "B_tTeYM5ScU1"
   },
   "source": [
    "## 导出推理模型\n",
    "\n",
    "当前工作目录 /content/models/research/object_detection"
   ]
  },
  {
   "cell_type": "code",
   "execution_count": null,
   "metadata": {
    "id": "NB4JHHqHSoiq"
   },
   "outputs": [],
   "source": [
    "!python /content/models/research/object_detection/exporter_main_v2.py \\\n",
    "    --input_type=image_tensor \\\n",
    "    --pipeline_config_path=/content/gdrive/MyDrive/Object_Detection/data/ssd_mobilenet_v2_fpnlite_320x320_coco17_tpu-8.config \\\n",
    "    --output_directory='/content/gdrive/MyDrive/Object_Detection/training/export' \\\n",
    "    --trained_checkpoint_dir='/content/gdrive/MyDrive/Object_Detection/training/'"
   ]
  },
  {
   "cell_type": "code",
   "execution_count": null,
   "metadata": {
    "id": "Quq6JQZmoxUg"
   },
   "outputs": [],
   "source": [
    "!python /content/models/research/object_detection/export_tflite_graph_tf2.py \\\n",
    "    --pipeline_config_path=/content/gdrive/MyDrive/Object_Detection/data/ssd_mobilenet_v2_fpnlite_320x320_coco17_tpu-8.config \\\n",
    "    --output_directory='/content/gdrive/MyDrive/Object_Detection/training/export_tpu' \\\n",
    "    --trained_checkpoint_dir='/content/gdrive/MyDrive/Object_Detection/training/'"
   ]
  },
  {
   "cell_type": "markdown",
   "metadata": {
    "id": "lIfZPBYbSgkZ"
   },
   "source": [
    "## 模型测试\n",
    "\n",
    "当前工作目录 /content/models/research/object_detection"
   ]
  },
  {
   "cell_type": "code",
   "execution_count": null,
   "metadata": {
    "id": "luvxJreLjwB1"
   },
   "outputs": [],
   "source": [
    "#Loading the saved_model\n",
    "import tensorflow as tf\n",
    "import time\n",
    "import numpy as np\n",
    "import warnings\n",
    "warnings.filterwarnings('ignore')\n",
    "from PIL import Image\n",
    "from google.colab.patches import cv2_imshow\n",
    "from object_detection.utils import label_map_util\n",
    "from object_detection.utils import visualization_utils as viz_utils\n",
    "\n",
    "IMAGE_SIZE = (12, 8) # Output display size as you want\n",
    "import matplotlib.pyplot as plt\n",
    "PATH_TO_SAVED_MODEL=\"/content/gdrive/MyDrive/Object_Detection/training/export/saved_model\"\n",
    "print('Loading model...', end='')\n",
    "\n",
    "# Load saved model and build the detection function\n",
    "detect_fn=tf.saved_model.load(PATH_TO_SAVED_MODEL)\n",
    "print('Done!')\n",
    "\n",
    "#Loading the label_map\n",
    "category_index=label_map_util.create_category_index_from_labelmap(\"/content/gdrive/MyDrive/Object_Detection/data/label_map.pbtxt\",use_display_name=True)\n",
    "#category_index=label_map_util.create_category_index_from_labelmap([path_to_label_map],use_display_name=True)\n",
    "\n",
    "def load_image_into_numpy_array(path):\n",
    "\n",
    "    return np.array(Image.open(path))\n",
    "\n",
    "image_path = \"/content/gdrive/MyDrive/Object_Detection/data/images/camera_018.jpg\"\n",
    "#print('Running inference for {}... '.format(image_path), end='')\n",
    "\n",
    "image_np = load_image_into_numpy_array(image_path)\n",
    "\n",
    "# The input needs to be a tensor, convert it using `tf.convert_to_tensor`.\n",
    "input_tensor = tf.convert_to_tensor(image_np)\n",
    "# The model expects a batch of images, so add an axis with `tf.newaxis`.\n",
    "input_tensor = input_tensor[tf.newaxis, ...]\n",
    "\n",
    "detections = detect_fn(input_tensor)\n",
    "\n",
    "# All outputs are batches tensors.\n",
    "# Convert to numpy arrays, and take index [0] to remove the batch dimension.\n",
    "# We're only interested in the first num_detections.\n",
    "num_detections = int(detections.pop('num_detections'))\n",
    "detections = {key: value[0, :num_detections].numpy()\n",
    "              for key, value in detections.items()}\n",
    "detections['num_detections'] = num_detections\n",
    "\n",
    "# detection_classes should be ints.\n",
    "detections['detection_classes'] = detections['detection_classes'].astype(np.int64)\n",
    "\n",
    "image_np_with_detections = image_np.copy()\n",
    "\n",
    "viz_utils.visualize_boxes_and_labels_on_image_array(\n",
    "      image_np_with_detections,\n",
    "      detections['detection_boxes'],\n",
    "      detections['detection_classes'],\n",
    "      detections['detection_scores'],\n",
    "      category_index,\n",
    "      use_normalized_coordinates=True,\n",
    "      max_boxes_to_draw=200,\n",
    "      min_score_thresh=.4, # Adjust this value to set the minimum probability boxes to be classified as True\n",
    "      agnostic_mode=False)\n",
    "%matplotlib inline\n",
    "plt.figure(figsize=IMAGE_SIZE, dpi=200)\n",
    "plt.axis(\"off\")\n",
    "plt.imshow(image_np_with_detections)\n",
    "plt.show()"
   ]
  },
  {
   "cell_type": "code",
   "execution_count": null,
   "metadata": {
    "id": "PI3vzvWumcdg"
   },
   "outputs": [],
   "source": [
    "!echo \"CONVERTING frozen graph to quantized TF Lite file...\"\n",
    "!tflite_convert \\\n",
    "  --output_file='/content/gdrive/MyDrive/Object_Detection/training/export_tpu/saved_model/road_signs_quantized.tflite' \\\n",
    "  --graph_def_file='/content/gdrive/MyDrive/Object_Detection/training/export_tpu/saved_model/saved_model.pb' \\\n",
    "  --inference_type=QUANTIZED_UINT8 \\\n",
    "  --input_arrays='normalized_input_image_tensor' \\\n",
    "  --output_arrays='TFLite_Detection_PostProcess,TFLite_Detection_PostProcess:1,TFLite_Detection_PostProcess:2,TFLite_Detection_PostProcess:3' \\\n",
    "  --mean_values=128 \\\n",
    "  --std_dev_values=128 \\\n",
    "  --input_shapes=1,300,300,3 \\\n",
    "  --change_concat_input_ranges=false \\\n",
    "  --allow_nudging_weights_to_use_fast_gemm_kernel=true \\\n",
    "  --allow_custom_ops \\\n",
    "  --saved_model_dir='/content/gdrive/MyDrive/Object_Detection/training/export_tpu/saved_model/'"
   ]
  },
  {
   "cell_type": "markdown",
   "metadata": {
    "id": "afZcMjuiLEUi"
   },
   "source": [
    "# **GITHUB**\n",
    "\n",
    "\n",
    "*   [Object Detection using Tensorflow 2.x](https://github.com/jssanshi/DeepBot)"
   ]
  }
 ],
 "metadata": {
  "accelerator": "GPU",
  "colab": {
   "collapsed_sections": [
    "k25m_dVm6-bP"
   ],
   "gpuType": "T4",
   "provenance": [
    {
     "file_id": "1zjdvPLFDpb2zB3qnOFIm-hkMkw1zVjLV",
     "timestamp": 1675739813857
    },
    {
     "file_id": "1dKv1LK75fWwOatT1orhLNy084J4jF4Sm",
     "timestamp": 1675070901123
    },
    {
     "file_id": "1QCU_dCR0ozI8j6X2btEDCsaUk5p_b1uw",
     "timestamp": 1675045705085
    },
    {
     "file_id": "12BNAgMHzQ5YgaijYxvVKWkGUtNSq1In3",
     "timestamp": 1636485335078
    },
    {
     "file_id": "1YWjDuJgdIvK1yenD3Wmb3_JARuPOuKht",
     "timestamp": 1615417926325
    }
   ]
  },
  "kernelspec": {
   "display_name": "Python 3",
   "name": "python3"
  }
 },
 "nbformat": 4,
 "nbformat_minor": 0
}